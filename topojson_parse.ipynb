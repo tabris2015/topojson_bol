{
 "cells": [
  {
   "cell_type": "code",
   "execution_count": 1,
   "id": "40f7e0ba",
   "metadata": {},
   "outputs": [],
   "source": [
    "import json"
   ]
  },
  {
   "cell_type": "code",
   "execution_count": 2,
   "id": "55d8d9f6",
   "metadata": {},
   "outputs": [],
   "source": [
    "with open(\"BOL_WGS84.json\") as f:\n",
    "    data = json.load(f)"
   ]
  },
  {
   "cell_type": "code",
   "execution_count": 14,
   "id": "0b045a6f",
   "metadata": {},
   "outputs": [
    {
     "data": {
      "text/plain": [
       "{'C_UT': '070503',\n",
       " 'DEPARTAMEN': 'SANTA CRUZ',\n",
       " 'PROVINCIA': 'Chiquitos',\n",
       " 'MUNICIPIO': 'Roboré',\n",
       " 'N°_LEY': 0,\n",
       " 'FECHA_LEY': '1899-11-30T00:00:00.000Z',\n",
       " 'ZONA': '20_21',\n",
       " 'ID_UT': 70503,\n",
       " 'BL_COMLI_M': 'CSL_26/11/1947',\n",
       " 'CAPITAL': 'Roboré',\n",
       " 'C_SIOT': '17',\n",
       " 'TIOC_AIOC': ''}"
      ]
     },
     "execution_count": 14,
     "metadata": {},
     "output_type": "execute_result"
    }
   ],
   "source": [
    "data[\"objects\"][\"BOL_WGS84\"][\"geometries\"][0][\"properties\"]"
   ]
  },
  {
   "cell_type": "code",
   "execution_count": 15,
   "id": "721cf082",
   "metadata": {},
   "outputs": [],
   "source": [
    "items = []\n",
    "for item in data[\"objects\"][\"BOL_WGS84\"][\"geometries\"]:\n",
    "    items.append(item[\"properties\"])"
   ]
  },
  {
   "cell_type": "code",
   "execution_count": 17,
   "id": "79f76e77",
   "metadata": {},
   "outputs": [],
   "source": [
    "municipios_set = set([item[\"MUNICIPIO\"] for item in items])"
   ]
  },
  {
   "cell_type": "code",
   "execution_count": 19,
   "id": "fcaeb218",
   "metadata": {},
   "outputs": [],
   "source": [
    "municipios_list = [item[\"MUNICIPIO\"] for item in items]"
   ]
  },
  {
   "cell_type": "code",
   "execution_count": 20,
   "id": "df24e68b",
   "metadata": {},
   "outputs": [
    {
     "data": {
      "text/plain": [
       "350"
      ]
     },
     "execution_count": 20,
     "metadata": {},
     "output_type": "execute_result"
    }
   ],
   "source": [
    "len(municipios_list)"
   ]
  },
  {
   "cell_type": "code",
   "execution_count": null,
   "id": "0da99cd2",
   "metadata": {},
   "outputs": [],
   "source": []
  }
 ],
 "metadata": {
  "kernelspec": {
   "display_name": ".venv",
   "language": "python",
   "name": "python3"
  },
  "language_info": {
   "codemirror_mode": {
    "name": "ipython",
    "version": 3
   },
   "file_extension": ".py",
   "mimetype": "text/x-python",
   "name": "python",
   "nbconvert_exporter": "python",
   "pygments_lexer": "ipython3",
   "version": "3.12.7"
  }
 },
 "nbformat": 4,
 "nbformat_minor": 5
}
